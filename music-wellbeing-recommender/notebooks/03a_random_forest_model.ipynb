{
 "cells": [
  {
   "cell_type": "markdown",
   "id": "32cdf9ec",
   "metadata": {},
   "source": [
    "# 🌲 Random Forest Classifier - Music Effects Prediction\n",
    "\n",
    "This notebook focuses on building and evaluating the **Random Forest Classifier** for predicting music effects on mental wellbeing.\n",
    "\n",
    "## 🎯 Objective\n",
    "Train a Random Forest model to predict whether music will have a positive effect (Improve/No effect/Worsen) on users' mental health based on their psychological profile and listening habits.\n",
    "\n",
    "## 📋 Workflow\n",
    "1. Load and prepare data\n",
    "2. Feature engineering\n",
    "3. Train Random Forest model\n",
    "4. Evaluate performance\n",
    "5. Analyze feature importance\n",
    "6. Save model artifacts\n",
    "\n",
    "---"
   ]
  },
  {
   "cell_type": "markdown",
   "id": "2f31cd84",
   "metadata": {},
   "source": [
    "## 📦 Import Libraries"
   ]
  },
  {
   "cell_type": "code",
   "execution_count": null,
   "id": "cd0b97bf",
   "metadata": {},
   "outputs": [],
   "source": [
    "# Core libraries\n",
    "import pandas as pd\n",
    "import numpy as np\n",
    "import warnings\n",
    "warnings.filterwarnings('ignore')\n",
    "\n",
    "# Machine Learning\n",
    "from sklearn.model_selection import train_test_split\n",
    "from sklearn.preprocessing import LabelEncoder\n",
    "from sklearn.ensemble import RandomForestClassifier\n",
    "from sklearn.metrics import (\n",
    "    classification_report, \n",
    "    confusion_matrix, \n",
    "    accuracy_score,\n",
    "    precision_recall_fscore_support\n",
    ")\n",
    "\n",
    "# Visualization\n",
    "import matplotlib.pyplot as plt\n",
    "import seaborn as sns\n",
    "\n",
    "# Model persistence\n",
    "import joblib\n",
    "import os\n",
    "\n",
    "# Styling\n",
    "plt.style.use('seaborn-v0_8')\n",
    "sns.set_palette('husl')\n",
    "\n",
    "print('✅ Libraries imported successfully!')\n",
    "print('🌲 Ready to build Random Forest model...')"
   ]
  },
  {
   "cell_type": "markdown",
   "id": "7a7a2375",
   "metadata": {},
   "source": [
    "## 📊 Load Data"
   ]
  },
  {
   "cell_type": "code",
   "execution_count": null,
   "id": "98f9f564",
   "metadata": {},
   "outputs": [],
   "source": [
    "# Load the MXMH survey dataset\n",
    "try:\n",
    "    df = pd.read_csv('../data/processed/dataset_clean.csv')\n",
    "    print(\"✅ Loaded processed dataset\")\n",
    "except FileNotFoundError:\n",
    "    print(\"⚠️ Processed dataset not found, loading raw data...\")\n",
    "    df = pd.read_csv('../data/raw/mxmh_survey_results.csv')\n",
    "    print(\"✅ Loaded raw dataset\")\n",
    "\n",
    "print(f\"\\n📋 Dataset Shape: {df.shape}\")\n",
    "print(f\"👥 Samples: {len(df)}\")\n",
    "print(f\"📊 Features: {df.shape[1]}\")\n",
    "\n",
    "# Display first few rows\n",
    "df.head()"
   ]
  },
  {
   "cell_type": "markdown",
   "id": "394a4ead",
   "metadata": {},
   "source": [
    "## 🧹 Data Preprocessing"
   ]
  },
  {
   "cell_type": "code",
   "execution_count": null,
   "id": "bf542e7b",
   "metadata": {},
   "outputs": [],
   "source": [
    "# Handle BPM outliers\n",
    "if 'BPM' in df.columns:\n",
    "    median_bpm = df['BPM'].median()\n",
    "    df['BPM'] = df['BPM'].apply(lambda x: median_bpm if (pd.isna(x) or x < 40 or x > 300) else x)\n",
    "    print(f\"✅ BPM outliers handled (median: {median_bpm})\")\n",
    "\n",
    "# Remove rows with missing target\n",
    "if 'Music effects' in df.columns:\n",
    "    original_len = len(df)\n",
    "    df = df.dropna(subset=['Music effects'])\n",
    "    print(f\"✅ Dropped {original_len - len(df)} rows with missing target\")\n",
    "\n",
    "# Check target distribution\n",
    "print(f\"\\n🎯 Target Distribution:\")\n",
    "print(df['Music effects'].value_counts())\n",
    "print(f\"\\n📊 Target Proportions:\")\n",
    "print(df['Music effects'].value_counts(normalize=True))"
   ]
  },
  {
   "cell_type": "markdown",
   "id": "caee76ff",
   "metadata": {},
   "source": [
    "## 🔧 Feature Engineering"
   ]
  },
  {
   "cell_type": "code",
   "execution_count": null,
   "id": "d9fe24c9",
   "metadata": {},
   "outputs": [],
   "source": [
    "# Define feature sets\n",
    "numeric_features = ['Age', 'Hours per day', 'BPM', 'Anxiety', 'Depression', 'Insomnia', 'OCD']\n",
    "categorical_features = [\n",
    "    'Fav genre', 'Primary streaming service', 'While working', \n",
    "    'Instrumentalist', 'Composer', 'Exploratory', 'Foreign languages'\n",
    "]\n",
    "\n",
    "# Filter available features\n",
    "available_numeric = [col for col in numeric_features if col in df.columns]\n",
    "available_categorical = [col for col in categorical_features if col in df.columns]\n",
    "\n",
    "print(f\"📊 Numeric features ({len(available_numeric)}): {available_numeric}\")\n",
    "print(f\"📊 Categorical features ({len(available_categorical)}): {available_categorical}\")\n",
    "\n",
    "# Extract features\n",
    "X_numeric = df[available_numeric].copy()\n",
    "X_categorical = df[available_categorical].copy()\n",
    "\n",
    "# Handle missing values\n",
    "X_numeric = X_numeric.fillna(X_numeric.median())\n",
    "X_categorical = X_categorical.fillna('Unknown')\n",
    "\n",
    "print(\"\\n✅ Missing values handled\")"
   ]
  },
  {
   "cell_type": "code",
   "execution_count": null,
   "id": "571ec647",
   "metadata": {},
   "outputs": [],
   "source": [
    "# One-hot encoding for categorical variables\n",
    "print(\"🔄 Encoding categorical variables...\")\n",
    "X_categorical_encoded = pd.get_dummies(X_categorical, prefix=available_categorical, drop_first=True)\n",
    "\n",
    "# Combine features\n",
    "X = pd.concat([X_numeric, X_categorical_encoded], axis=1)\n",
    "\n",
    "print(f\"\\n📊 Final feature matrix: {X.shape}\")\n",
    "print(f\"📋 Total features: {len(X.columns)}\")\n",
    "\n",
    "# Store feature names\n",
    "feature_names = list(X.columns)\n",
    "print(f\"\\n✅ Feature engineering complete!\")"
   ]
  },
  {
   "cell_type": "markdown",
   "id": "fa1aa4e8",
   "metadata": {},
   "source": [
    "## 🎯 Prepare Target Variable"
   ]
  },
  {
   "cell_type": "code",
   "execution_count": null,
   "id": "57a56ecd",
   "metadata": {},
   "outputs": [],
   "source": [
    "# Encode target variable\n",
    "y = df['Music effects'].copy()\n",
    "label_encoder = LabelEncoder()\n",
    "y_encoded = label_encoder.fit_transform(y)\n",
    "\n",
    "print(\"🎯 Target Encoding:\")\n",
    "for i, class_name in enumerate(label_encoder.classes_):\n",
    "    count = sum(y_encoded == i)\n",
    "    print(f\"  {class_name} -> {i} ({count} samples, {count/len(y_encoded)*100:.1f}%)\")\n",
    "\n",
    "print(\"\\n✅ Target variable encoded!\")"
   ]
  },
  {
   "cell_type": "markdown",
   "id": "1e44981e",
   "metadata": {},
   "source": [
    "## ⚙️ Train-Test Split"
   ]
  },
  {
   "cell_type": "code",
   "execution_count": null,
   "id": "923e06da",
   "metadata": {},
   "outputs": [],
   "source": [
    "# Split data with stratification\n",
    "X_train, X_test, y_train, y_test = train_test_split(\n",
    "    X, y_encoded,\n",
    "    test_size=0.2,\n",
    "    stratify=y_encoded,\n",
    "    random_state=42\n",
    ")\n",
    "\n",
    "print(\"🔄 Data split complete!\")\n",
    "print(f\"\\n📊 Training set: {X_train.shape}\")\n",
    "print(f\"📊 Test set: {X_test.shape}\")\n",
    "\n",
    "# Verify stratification\n",
    "print(f\"\\n📈 Training set distribution:\")\n",
    "unique, counts = np.unique(y_train, return_counts=True)\n",
    "for class_idx, count in zip(unique, counts):\n",
    "    print(f\"  {label_encoder.classes_[class_idx]}: {count} ({count/len(y_train)*100:.1f}%)\")\n",
    "\n",
    "print(f\"\\n📈 Test set distribution:\")\n",
    "unique, counts = np.unique(y_test, return_counts=True)\n",
    "for class_idx, count in zip(unique, counts):\n",
    "    print(f\"  {label_encoder.classes_[class_idx]}: {count} ({count/len(y_test)*100:.1f}%)\")"
   ]
  },
  {
   "cell_type": "markdown",
   "id": "5ae78504",
   "metadata": {},
   "source": [
    "## 🌲 Train Random Forest Model"
   ]
  },
  {
   "cell_type": "code",
   "execution_count": null,
   "id": "90a8548a",
   "metadata": {},
   "outputs": [],
   "source": [
    "print(\"🌲 Training Random Forest Classifier...\\n\")\n",
    "\n",
    "# Initialize model\n",
    "rf_model = RandomForestClassifier(\n",
    "    n_estimators=200,      # Number of trees\n",
    "    max_depth=10,          # Maximum tree depth\n",
    "    min_samples_split=5,   # Minimum samples to split\n",
    "    random_state=42,       # Reproducibility\n",
    "    n_jobs=-1             # Use all cores\n",
    ")\n",
    "\n",
    "# Train the model\n",
    "rf_model.fit(X_train, y_train)\n",
    "\n",
    "print(\"✅ Model training complete!\")\n",
    "print(f\"\\n🎯 Model Configuration:\")\n",
    "print(f\"  • Trees: {rf_model.n_estimators}\")\n",
    "print(f\"  • Max depth: {rf_model.max_depth}\")\n",
    "print(f\"  • Features: {len(feature_names)}\")\n",
    "print(f\"  • Classes: {len(label_encoder.classes_)}\")"
   ]
  },
  {
   "cell_type": "markdown",
   "id": "39b40618",
   "metadata": {},
   "source": [
    "## 📊 Model Evaluation"
   ]
  },
  {
   "cell_type": "code",
   "execution_count": null,
   "id": "cd2b7e04",
   "metadata": {},
   "outputs": [],
   "source": [
    "# Make predictions\n",
    "y_train_pred = rf_model.predict(X_train)\n",
    "y_test_pred = rf_model.predict(X_test)\n",
    "\n",
    "# Calculate accuracies\n",
    "train_accuracy = accuracy_score(y_train, y_train_pred)\n",
    "test_accuracy = accuracy_score(y_test, y_test_pred)\n",
    "\n",
    "print(\"📊 MODEL PERFORMANCE\")\n",
    "print(\"=\"*50)\n",
    "print(f\"Training Accuracy:   {train_accuracy:.4f} ({train_accuracy*100:.2f}%)\")\n",
    "print(f\"Testing Accuracy:    {test_accuracy:.4f} ({test_accuracy*100:.2f}%)\")\n",
    "print(f\"Accuracy Difference: {(train_accuracy - test_accuracy):.4f}\")\n",
    "\n",
    "# Check overfitting\n",
    "if train_accuracy - test_accuracy > 0.1:\n",
    "    print(\"\\n⚠️ Potential overfitting detected\")\n",
    "else:\n",
    "    print(\"\\n✅ Good generalization\")"
   ]
  },
  {
   "cell_type": "code",
   "execution_count": null,
   "id": "d330a2d6",
   "metadata": {},
   "outputs": [],
   "source": [
    "# Detailed classification report\n",
    "print(\"\\n📋 CLASSIFICATION REPORT\")\n",
    "print(\"=\"*70)\n",
    "class_names = label_encoder.classes_\n",
    "report = classification_report(y_test, y_test_pred, target_names=class_names)\n",
    "print(report)"
   ]
  },
  {
   "cell_type": "markdown",
   "id": "a275ca4e",
   "metadata": {},
   "source": [
    "## 🔥 Confusion Matrix"
   ]
  },
  {
   "cell_type": "code",
   "execution_count": null,
   "id": "0326da9c",
   "metadata": {},
   "outputs": [],
   "source": [
    "# Generate confusion matrix\n",
    "cm = confusion_matrix(y_test, y_test_pred)\n",
    "\n",
    "# Visualize\n",
    "plt.figure(figsize=(10, 8))\n",
    "sns.heatmap(cm, \n",
    "            annot=True, \n",
    "            fmt='d', \n",
    "            cmap='Blues',\n",
    "            xticklabels=class_names,\n",
    "            yticklabels=class_names,\n",
    "            cbar_kws={'label': 'Count'})\n",
    "plt.title('Confusion Matrix - Random Forest Classifier', fontsize=14, fontweight='bold', pad=20)\n",
    "plt.ylabel('True Label', fontsize=12)\n",
    "plt.xlabel('Predicted Label', fontsize=12)\n",
    "plt.tight_layout()\n",
    "plt.show()\n",
    "\n",
    "# Analysis\n",
    "print(\"\\n🔍 Confusion Matrix Analysis:\")\n",
    "print(\"=\"*50)\n",
    "for i, true_class in enumerate(class_names):\n",
    "    for j, pred_class in enumerate(class_names):\n",
    "        count = cm[i, j]\n",
    "        if i == j and count > 0:\n",
    "            print(f\"✅ {true_class:12} correctly predicted: {count:3} samples\")\n",
    "        elif count > 0:\n",
    "            print(f\"❌ {true_class:12} → {pred_class:12}: {count:3} misclassifications\")"
   ]
  },
  {
   "cell_type": "markdown",
   "id": "321e5f3b",
   "metadata": {},
   "source": [
    "## 📊 Feature Importance Analysis"
   ]
  },
  {
   "cell_type": "code",
   "execution_count": null,
   "id": "2c997ffc",
   "metadata": {},
   "outputs": [],
   "source": [
    "# Extract feature importances\n",
    "feature_importance = rf_model.feature_importances_\n",
    "feature_importance_df = pd.DataFrame({\n",
    "    'feature': feature_names,\n",
    "    'importance': feature_importance\n",
    "}).sort_values('importance', ascending=False)\n",
    "\n",
    "print(\"🔍 TOP 15 MOST IMPORTANT FEATURES\")\n",
    "print(\"=\"*60)\n",
    "for i, (_, row) in enumerate(feature_importance_df.head(15).iterrows(), 1):\n",
    "    bar = '█' * int(row['importance'] * 200)\n",
    "    print(f\"{i:2d}. {row['feature']:30} {row['importance']:.4f} {bar}\")\n",
    "\n",
    "# Visualize top 10\n",
    "plt.figure(figsize=(12, 8))\n",
    "top_features = feature_importance_df.head(10)\n",
    "sns.barplot(data=top_features, x='importance', y='feature', palette='viridis')\n",
    "plt.title('Top 10 Feature Importances - Random Forest', fontsize=14, fontweight='bold', pad=20)\n",
    "plt.xlabel('Importance Score', fontsize=12)\n",
    "plt.ylabel('Features', fontsize=12)\n",
    "plt.grid(True, alpha=0.3, axis='x')\n",
    "plt.tight_layout()\n",
    "plt.show()"
   ]
  },
  {
   "cell_type": "markdown",
   "id": "95a36bd6",
   "metadata": {},
   "source": [
    "## 🏷️ Feature Category Analysis"
   ]
  },
  {
   "cell_type": "code",
   "execution_count": null,
   "id": "76a20385",
   "metadata": {},
   "outputs": [],
   "source": [
    "# Categorize features\n",
    "mental_health_features = ['Anxiety', 'Depression', 'Insomnia', 'OCD']\n",
    "music_features = ['Hours per day', 'BPM', 'Age']\n",
    "genre_features = [f for f in feature_names if 'Fav genre' in f]\n",
    "platform_features = [f for f in feature_names if 'Primary streaming service' in f]\n",
    "\n",
    "categories = {\n",
    "    'Mental Health': mental_health_features,\n",
    "    'Music Habits': music_features,\n",
    "    'Genre Preferences': genre_features,\n",
    "    'Platform Usage': platform_features\n",
    "}\n",
    "\n",
    "print(\"\\n📊 FEATURE IMPORTANCE BY CATEGORY\")\n",
    "print(\"=\"*60)\n",
    "\n",
    "category_importance = {}\n",
    "for category, features in categories.items():\n",
    "    category_features = [f for f in features if f in feature_names]\n",
    "    if category_features:\n",
    "        avg_importance = feature_importance_df[\n",
    "            feature_importance_df['feature'].isin(category_features)\n",
    "        ]['importance'].mean()\n",
    "        category_importance[category] = avg_importance\n",
    "        print(f\"{category:20} {avg_importance:.4f} ({len(category_features)} features)\")\n",
    "\n",
    "# Visualize category importance\n",
    "if category_importance:\n",
    "    plt.figure(figsize=(10, 6))\n",
    "    categories_sorted = sorted(category_importance.items(), key=lambda x: x[1], reverse=True)\n",
    "    cats, imps = zip(*categories_sorted)\n",
    "    sns.barplot(x=list(imps), y=list(cats), palette='mako')\n",
    "    plt.title('Average Feature Importance by Category', fontsize=14, fontweight='bold', pad=20)\n",
    "    plt.xlabel('Average Importance', fontsize=12)\n",
    "    plt.ylabel('Feature Category', fontsize=12)\n",
    "    plt.tight_layout()\n",
    "    plt.show()"
   ]
  },
  {
   "cell_type": "markdown",
   "id": "0989cf7f",
   "metadata": {},
   "source": [
    "## 💾 Save Model Artifacts"
   ]
  },
  {
   "cell_type": "code",
   "execution_count": null,
   "id": "68a71039",
   "metadata": {},
   "outputs": [],
   "source": [
    "# Create models directory\n",
    "models_dir = '../models'\n",
    "os.makedirs(models_dir, exist_ok=True)\n",
    "\n",
    "print(\"💾 SAVING MODEL ARTIFACTS\")\n",
    "print(\"=\"*60)\n",
    "\n",
    "# Save trained model\n",
    "model_path = os.path.join(models_dir, 'music_effect_model.pkl')\n",
    "joblib.dump(rf_model, model_path)\n",
    "print(f\"✅ Model saved: {model_path}\")\n",
    "\n",
    "# Save label encoder\n",
    "encoder_path = os.path.join(models_dir, 'label_encoder.pkl')\n",
    "joblib.dump(label_encoder, encoder_path)\n",
    "print(f\"✅ Encoder saved: {encoder_path}\")\n",
    "\n",
    "# Save feature names\n",
    "features_path = os.path.join(models_dir, 'feature_columns.pkl')\n",
    "joblib.dump(feature_names, features_path)\n",
    "print(f\"✅ Features saved: {features_path}\")\n",
    "\n",
    "# Save feature importance\n",
    "importance_path = os.path.join(models_dir, 'feature_importance.csv')\n",
    "feature_importance_df.to_csv(importance_path, index=False)\n",
    "print(f\"✅ Feature importance saved: {importance_path}\")\n",
    "\n",
    "# Create model summary\n",
    "model_summary = {\n",
    "    'model_type': 'RandomForestClassifier',\n",
    "    'n_estimators': rf_model.n_estimators,\n",
    "    'max_depth': rf_model.max_depth,\n",
    "    'random_state': 42,\n",
    "    'test_accuracy': float(test_accuracy),\n",
    "    'train_accuracy': float(train_accuracy),\n",
    "    'n_features': len(feature_names),\n",
    "    'n_samples_train': len(X_train),\n",
    "    'n_samples_test': len(X_test),\n",
    "    'classes': list(label_encoder.classes_),\n",
    "    'top_5_features': feature_importance_df.head(5)['feature'].tolist()\n",
    "}\n",
    "\n",
    "summary_path = os.path.join(models_dir, 'model_summary.pkl')\n",
    "joblib.dump(model_summary, summary_path)\n",
    "print(f\"✅ Model summary saved: {summary_path}\")\n",
    "\n",
    "print(\"\\n🎉 All artifacts saved successfully!\")"
   ]
  },
  {
   "cell_type": "markdown",
   "id": "e5706187",
   "metadata": {},
   "source": [
    "## ✅ Test Model Loading"
   ]
  },
  {
   "cell_type": "code",
   "execution_count": null,
   "id": "c19f0393",
   "metadata": {},
   "outputs": [],
   "source": [
    "# Verify model can be loaded\n",
    "print(\"🔄 Testing model loading...\\n\")\n",
    "\n",
    "loaded_model = joblib.load(model_path)\n",
    "loaded_encoder = joblib.load(encoder_path)\n",
    "loaded_features = joblib.load(features_path)\n",
    "\n",
    "# Make test prediction\n",
    "test_prediction = loaded_model.predict(X_test[:1])\n",
    "predicted_class = loaded_encoder.inverse_transform(test_prediction)[0]\n",
    "actual_class = loaded_encoder.inverse_transform([y_test[0]])[0]\n",
    "\n",
    "print(f\"✅ Model loaded successfully!\")\n",
    "print(f\"\\n🧪 Test Prediction:\")\n",
    "print(f\"   Predicted: {predicted_class}\")\n",
    "print(f\"   Actual: {actual_class}\")\n",
    "print(f\"   Match: {'✅ Yes' if predicted_class == actual_class else '❌ No'}\")"
   ]
  },
  {
   "cell_type": "markdown",
   "id": "856aeb6f",
   "metadata": {},
   "source": [
    "## 📝 Model Summary"
   ]
  },
  {
   "cell_type": "code",
   "execution_count": null,
   "id": "1fbe5e7a",
   "metadata": {},
   "outputs": [],
   "source": [
    "print(\"\\n\" + \"=\"*70)\n",
    "print(\"🌲 RANDOM FOREST MODEL - FINAL SUMMARY\")\n",
    "print(\"=\"*70)\n",
    "\n",
    "print(f\"\\n📊 Performance Metrics:\")\n",
    "print(f\"   • Training Accuracy:  {train_accuracy*100:.2f}%\")\n",
    "print(f\"   • Testing Accuracy:   {test_accuracy*100:.2f}%\")\n",
    "print(f\"   • Generalization Gap: {(train_accuracy-test_accuracy)*100:.2f}%\")\n",
    "\n",
    "print(f\"\\n🔧 Model Configuration:\")\n",
    "print(f\"   • Algorithm:          Random Forest Classifier\")\n",
    "print(f\"   • Number of Trees:    {rf_model.n_estimators}\")\n",
    "print(f\"   • Max Tree Depth:     {rf_model.max_depth}\")\n",
    "print(f\"   • Total Features:     {len(feature_names)}\")\n",
    "print(f\"   • Training Samples:   {len(X_train)}\")\n",
    "print(f\"   • Test Samples:       {len(X_test)}\")\n",
    "\n",
    "print(f\"\\n🎯 Prediction Classes:\")\n",
    "for class_name in label_encoder.classes_:\n",
    "    print(f\"   • {class_name}\")\n",
    "\n",
    "print(f\"\\n🌟 Top 3 Important Features:\")\n",
    "for i, (_, row) in enumerate(feature_importance_df.head(3).iterrows(), 1):\n",
    "    print(f\"   {i}. {row['feature']} ({row['importance']:.4f})\")\n",
    "\n",
    "print(f\"\\n💾 Saved Artifacts:\")\n",
    "print(f\"   • music_effect_model.pkl\")\n",
    "print(f\"   • label_encoder.pkl\")\n",
    "print(f\"   • feature_columns.pkl\")\n",
    "print(f\"   • feature_importance.csv\")\n",
    "print(f\"   • model_summary.pkl\")\n",
    "\n",
    "print(f\"\\n✅ Model ready for deployment!\")\n",
    "print(\"=\"*70)"
   ]
  }
 ],
 "metadata": {
  "language_info": {
   "name": "python"
  }
 },
 "nbformat": 4,
 "nbformat_minor": 5
}
