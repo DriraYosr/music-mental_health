{
 "cells": [
  {
   "cell_type": "markdown",
   "id": "719921f3",
   "metadata": {},
   "source": [
    "# 🎵 Music Recommendation System Demo\n",
    "\n",
    "This notebook demonstrates the complete music wellbeing recommendation system in action, showing how users can get personalized music suggestions based on their mental health needs.\n",
    "\n",
    "## 🎯 Interactive Demo Features\n",
    "1. **User Input Interface**: Collect mental health indicators and preferences\n",
    "2. **Real-time Recommendations**: Generate personalized music suggestions\n",
    "3. **Mood Prediction**: Predict expected mood improvement\n",
    "4. **Scientific Explanation**: Provide rationale for recommendations\n",
    "5. **Visualization**: Show recommendation confidence and expected outcomes\n",
    "6. **Success Stories**: Display example scenarios and results\n",
    "\n",
    "---"
   ]
  },
  {
   "cell_type": "code",
   "execution_count": null,
   "id": "68c73744",
   "metadata": {},
   "outputs": [],
   "source": [
    "# Import required libraries\n",
    "import pandas as pd\n",
    "import numpy as np\n",
    "import matplotlib.pyplot as plt\n",
    "import seaborn as sns\n",
    "import plotly.express as px\n",
    "import plotly.graph_objects as go\n",
    "from IPython.display import display, HTML\n",
    "import joblib\n",
    "import sys\n",
    "sys.path.append('../src')\n",
    "\n",
    "# Import custom modules\n",
    "from recommend import MusicRecommendationEngine\n",
    "from utils import load_models, create_user_profile\n",
    "\n",
    "print('🎵 Music Recommendation Demo Ready!')\n",
    "print('✨ Preparing to showcase personalized music recommendations...')"
   ]
  }
 ],
 "metadata": {
  "language_info": {
   "name": "python"
  }
 },
 "nbformat": 4,
 "nbformat_minor": 5
}
