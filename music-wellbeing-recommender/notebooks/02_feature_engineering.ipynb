{
 "cells": [
  {
   "cell_type": "markdown",
   "id": "2b3a6e11",
   "metadata": {},
   "source": [
    "# 🔧 Feature Engineering for Music Wellbeing Recommender\n",
    "\n",
    "This notebook focuses on creating meaningful features that will improve our recommendation system's ability to predict mood improvement and suggest appropriate music for different mental health conditions.\n",
    "\n",
    "## 🎯 Objectives\n",
    "1. **Enhanced Music Features**: Create categorical and combined music features\n",
    "2. **User Profiling**: Develop user personas based on mental health patterns\n",
    "3. **Temporal Features**: Extract time-based patterns for better recommendations\n",
    "4. **Interaction Features**: Create features that capture relationships between variables\n",
    "5. **Mood Prediction Features**: Engineer features specifically for mood improvement prediction\n",
    "6. **Recommendation Features**: Prepare features for the final recommendation system\n",
    "\n",
    "---"
   ]
  },
  {
   "cell_type": "code",
   "execution_count": null,
   "id": "901d1ff4",
   "metadata": {},
   "outputs": [],
   "source": [
    "# Import required libraries\n",
    "import pandas as pd\n",
    "import numpy as np\n",
    "import matplotlib.pyplot as plt\n",
    "import seaborn as sns\n",
    "from sklearn.preprocessing import StandardScaler, LabelEncoder\n",
    "from sklearn.cluster import KMeans\n",
    "import warnings\n",
    "warnings.filterwarnings('ignore')\n",
    "\n",
    "# Load the data\n",
    "df = pd.read_csv('../data/raw/music_listening_data.csv')\n",
    "print(f\"✅ Loaded dataset with {df.shape[0]} rows and {df.shape[1]} columns\")\n",
    "\n",
    "# Create a copy for feature engineering\n",
    "df_features = df.copy()\n",
    "print(\"📊 Starting feature engineering process...\")"
   ]
  }
 ],
 "metadata": {
  "language_info": {
   "name": "python"
  }
 },
 "nbformat": 4,
 "nbformat_minor": 5
}
